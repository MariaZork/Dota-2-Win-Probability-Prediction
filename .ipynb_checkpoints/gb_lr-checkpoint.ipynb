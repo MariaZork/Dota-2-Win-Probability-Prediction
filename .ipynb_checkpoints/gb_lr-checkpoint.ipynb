{
 "cells": [
  {
   "cell_type": "markdown",
   "metadata": {},
   "source": [
    "# Этап 1: Градиентный бустинг"
   ]
  },
  {
   "cell_type": "code",
   "execution_count": 1,
   "metadata": {
    "collapsed": true
   },
   "outputs": [],
   "source": [
    "import pandas as pd\n",
    "\n",
    "import time\n",
    "import datetime\n",
    "\n",
    "from sklearn.model_selection import KFold, GridSearchCV\n",
    "from sklearn.ensemble import GradientBoostingClassifier"
   ]
  },
  {
   "cell_type": "code",
   "execution_count": 2,
   "metadata": {},
   "outputs": [
    {
     "data": {
      "text/html": [
       "<div>\n",
       "<style>\n",
       "    .dataframe thead tr:only-child th {\n",
       "        text-align: right;\n",
       "    }\n",
       "\n",
       "    .dataframe thead th {\n",
       "        text-align: left;\n",
       "    }\n",
       "\n",
       "    .dataframe tbody tr th {\n",
       "        vertical-align: top;\n",
       "    }\n",
       "</style>\n",
       "<table border=\"1\" class=\"dataframe\">\n",
       "  <thead>\n",
       "    <tr style=\"text-align: right;\">\n",
       "      <th></th>\n",
       "      <th>start_time</th>\n",
       "      <th>lobby_type</th>\n",
       "      <th>r1_hero</th>\n",
       "      <th>r1_level</th>\n",
       "      <th>r1_xp</th>\n",
       "      <th>r1_gold</th>\n",
       "      <th>r1_lh</th>\n",
       "      <th>r1_kills</th>\n",
       "      <th>r1_deaths</th>\n",
       "      <th>r1_items</th>\n",
       "      <th>...</th>\n",
       "      <th>dire_boots_count</th>\n",
       "      <th>dire_ward_observer_count</th>\n",
       "      <th>dire_ward_sentry_count</th>\n",
       "      <th>dire_first_ward_time</th>\n",
       "      <th>duration</th>\n",
       "      <th>radiant_win</th>\n",
       "      <th>tower_status_radiant</th>\n",
       "      <th>tower_status_dire</th>\n",
       "      <th>barracks_status_radiant</th>\n",
       "      <th>barracks_status_dire</th>\n",
       "    </tr>\n",
       "    <tr>\n",
       "      <th>match_id</th>\n",
       "      <th></th>\n",
       "      <th></th>\n",
       "      <th></th>\n",
       "      <th></th>\n",
       "      <th></th>\n",
       "      <th></th>\n",
       "      <th></th>\n",
       "      <th></th>\n",
       "      <th></th>\n",
       "      <th></th>\n",
       "      <th></th>\n",
       "      <th></th>\n",
       "      <th></th>\n",
       "      <th></th>\n",
       "      <th></th>\n",
       "      <th></th>\n",
       "      <th></th>\n",
       "      <th></th>\n",
       "      <th></th>\n",
       "      <th></th>\n",
       "      <th></th>\n",
       "    </tr>\n",
       "  </thead>\n",
       "  <tbody>\n",
       "    <tr>\n",
       "      <th>0</th>\n",
       "      <td>1430198770</td>\n",
       "      <td>7</td>\n",
       "      <td>11</td>\n",
       "      <td>5</td>\n",
       "      <td>2098</td>\n",
       "      <td>1489</td>\n",
       "      <td>20</td>\n",
       "      <td>0</td>\n",
       "      <td>0</td>\n",
       "      <td>7</td>\n",
       "      <td>...</td>\n",
       "      <td>4</td>\n",
       "      <td>2</td>\n",
       "      <td>2</td>\n",
       "      <td>-52.0</td>\n",
       "      <td>2874</td>\n",
       "      <td>1</td>\n",
       "      <td>1796</td>\n",
       "      <td>0</td>\n",
       "      <td>51</td>\n",
       "      <td>0</td>\n",
       "    </tr>\n",
       "    <tr>\n",
       "      <th>1</th>\n",
       "      <td>1430220345</td>\n",
       "      <td>0</td>\n",
       "      <td>42</td>\n",
       "      <td>4</td>\n",
       "      <td>1188</td>\n",
       "      <td>1033</td>\n",
       "      <td>9</td>\n",
       "      <td>0</td>\n",
       "      <td>1</td>\n",
       "      <td>12</td>\n",
       "      <td>...</td>\n",
       "      <td>4</td>\n",
       "      <td>3</td>\n",
       "      <td>1</td>\n",
       "      <td>-5.0</td>\n",
       "      <td>2463</td>\n",
       "      <td>1</td>\n",
       "      <td>1974</td>\n",
       "      <td>0</td>\n",
       "      <td>63</td>\n",
       "      <td>1</td>\n",
       "    </tr>\n",
       "    <tr>\n",
       "      <th>2</th>\n",
       "      <td>1430227081</td>\n",
       "      <td>7</td>\n",
       "      <td>33</td>\n",
       "      <td>4</td>\n",
       "      <td>1319</td>\n",
       "      <td>1270</td>\n",
       "      <td>22</td>\n",
       "      <td>0</td>\n",
       "      <td>0</td>\n",
       "      <td>12</td>\n",
       "      <td>...</td>\n",
       "      <td>4</td>\n",
       "      <td>3</td>\n",
       "      <td>1</td>\n",
       "      <td>13.0</td>\n",
       "      <td>2130</td>\n",
       "      <td>0</td>\n",
       "      <td>0</td>\n",
       "      <td>1830</td>\n",
       "      <td>0</td>\n",
       "      <td>63</td>\n",
       "    </tr>\n",
       "    <tr>\n",
       "      <th>3</th>\n",
       "      <td>1430263531</td>\n",
       "      <td>1</td>\n",
       "      <td>29</td>\n",
       "      <td>4</td>\n",
       "      <td>1779</td>\n",
       "      <td>1056</td>\n",
       "      <td>14</td>\n",
       "      <td>0</td>\n",
       "      <td>0</td>\n",
       "      <td>5</td>\n",
       "      <td>...</td>\n",
       "      <td>4</td>\n",
       "      <td>2</td>\n",
       "      <td>0</td>\n",
       "      <td>27.0</td>\n",
       "      <td>1459</td>\n",
       "      <td>0</td>\n",
       "      <td>1920</td>\n",
       "      <td>2047</td>\n",
       "      <td>50</td>\n",
       "      <td>63</td>\n",
       "    </tr>\n",
       "    <tr>\n",
       "      <th>4</th>\n",
       "      <td>1430282290</td>\n",
       "      <td>7</td>\n",
       "      <td>13</td>\n",
       "      <td>4</td>\n",
       "      <td>1431</td>\n",
       "      <td>1090</td>\n",
       "      <td>8</td>\n",
       "      <td>1</td>\n",
       "      <td>0</td>\n",
       "      <td>8</td>\n",
       "      <td>...</td>\n",
       "      <td>3</td>\n",
       "      <td>3</td>\n",
       "      <td>0</td>\n",
       "      <td>-16.0</td>\n",
       "      <td>2449</td>\n",
       "      <td>0</td>\n",
       "      <td>4</td>\n",
       "      <td>1974</td>\n",
       "      <td>3</td>\n",
       "      <td>63</td>\n",
       "    </tr>\n",
       "  </tbody>\n",
       "</table>\n",
       "<p>5 rows × 108 columns</p>\n",
       "</div>"
      ],
      "text/plain": [
       "          start_time  lobby_type  r1_hero  r1_level  r1_xp  r1_gold  r1_lh  \\\n",
       "match_id                                                                     \n",
       "0         1430198770           7       11         5   2098     1489     20   \n",
       "1         1430220345           0       42         4   1188     1033      9   \n",
       "2         1430227081           7       33         4   1319     1270     22   \n",
       "3         1430263531           1       29         4   1779     1056     14   \n",
       "4         1430282290           7       13         4   1431     1090      8   \n",
       "\n",
       "          r1_kills  r1_deaths  r1_items          ...           \\\n",
       "match_id                                         ...            \n",
       "0                0          0         7          ...            \n",
       "1                0          1        12          ...            \n",
       "2                0          0        12          ...            \n",
       "3                0          0         5          ...            \n",
       "4                1          0         8          ...            \n",
       "\n",
       "          dire_boots_count  dire_ward_observer_count  dire_ward_sentry_count  \\\n",
       "match_id                                                                       \n",
       "0                        4                         2                       2   \n",
       "1                        4                         3                       1   \n",
       "2                        4                         3                       1   \n",
       "3                        4                         2                       0   \n",
       "4                        3                         3                       0   \n",
       "\n",
       "          dire_first_ward_time  duration  radiant_win  tower_status_radiant  \\\n",
       "match_id                                                                      \n",
       "0                        -52.0      2874            1                  1796   \n",
       "1                         -5.0      2463            1                  1974   \n",
       "2                         13.0      2130            0                     0   \n",
       "3                         27.0      1459            0                  1920   \n",
       "4                        -16.0      2449            0                     4   \n",
       "\n",
       "          tower_status_dire  barracks_status_radiant  barracks_status_dire  \n",
       "match_id                                                                    \n",
       "0                         0                       51                     0  \n",
       "1                         0                       63                     1  \n",
       "2                      1830                        0                    63  \n",
       "3                      2047                       50                    63  \n",
       "4                      1974                        3                    63  \n",
       "\n",
       "[5 rows x 108 columns]"
      ]
     },
     "execution_count": 2,
     "metadata": {},
     "output_type": "execute_result"
    }
   ],
   "source": [
    "train_data = pd.read_csv('dataset\\\\features.csv', index_col='match_id')\n",
    "train_data.head()"
   ]
  },
  {
   "cell_type": "code",
   "execution_count": 3,
   "metadata": {
    "collapsed": true
   },
   "outputs": [],
   "source": [
    "# Удаляем признаки об исходе игры из train_data, так как они отсутствуют в тестовой выборке\n",
    "# признаки для удаления duration,radiant_win,tower_status_radiant,tower_status_dire,barracks_status_radiant,barracks_status_dire\n",
    "\n",
    "drop_data = train_data.iloc[:, -6:] \n",
    "Y_train = train_data['radiant_win']\n",
    "X_train = train_data.drop(drop_data, axis=1)"
   ]
  },
  {
   "cell_type": "code",
   "execution_count": 4,
   "metadata": {
    "scrolled": true
   },
   "outputs": [
    {
     "name": "stdout",
     "output_type": "stream",
     "text": [
      "first_blood_time               77677\n",
      "first_blood_team               77677\n",
      "first_blood_player1            77677\n",
      "first_blood_player2            53243\n",
      "radiant_bottle_time            81539\n",
      "radiant_courier_time           96538\n",
      "radiant_flying_courier_time    69751\n",
      "radiant_first_ward_time        95394\n",
      "dire_bottle_time               81087\n",
      "dire_courier_time              96554\n",
      "dire_flying_courier_time       71132\n",
      "dire_first_ward_time           95404\n",
      "dtype: int64\n",
      "========================================\n",
      "first_blood_time       0.201100\n",
      "first_blood_team       0.201100\n",
      "first_blood_player1    0.201100\n",
      "first_blood_player2    0.452402\n",
      "dtype: float64\n"
     ]
    }
   ],
   "source": [
    "# Проверяем выборку на наличие пропусков\n",
    "counts = X_train.count()\n",
    "counts_na = counts[counts < len(X_train)]\n",
    "print(counts_na)\n",
    "print('='*40)\n",
    "print(1 - counts_na[0:4]/len(X_train))"
   ]
  },
  {
   "cell_type": "markdown",
   "metadata": {},
   "source": [
    "# Ответ 1:\n",
    "Признаки first_blood_time, first_blood_team в 20 % случаев принимают пустые значения, поскольку событие \"первая кровь\" не успело произойти за первые 5 минут, количество пустых значений признака first_blood_player1 (игрок, причастный к событию) совпадает с first_blood_time, first_blood_team и равно 20 %, в то время как для признака first_blood_player2 (второй игрок, причастный к событию) количество пропущенных значений составляет 45 % выборки.\n",
    "            "
   ]
  },
  {
   "cell_type": "code",
   "execution_count": 5,
   "metadata": {
    "collapsed": true
   },
   "outputs": [],
   "source": [
    "# Заменим пропуски на нули с помощью функции fillna()\n",
    "X_train = X_train.fillna(0)\n"
   ]
  },
  {
   "cell_type": "markdown",
   "metadata": {},
   "source": [
    "# Ответ 2:\n",
    "\n",
    "Целевой переменной является признак radiant_win."
   ]
  },
  {
   "cell_type": "code",
   "execution_count": 6,
   "metadata": {},
   "outputs": [
    {
     "name": "stdout",
     "output_type": "stream",
     "text": [
      "Time elapsed: 0:08:52.578965\n",
      "Mean train scores for 10, 20, 30, 50, 100 estimators: [ 0.67374299  0.69341142  0.70201888  0.71197297  0.72627958]\n",
      "Mean test scores for 10, 20, 30, 50, 100 estimators: [ 0.66485069  0.68246188  0.69000647  0.69749436  0.70622298]\n",
      "Mean fit time for 10, 20, 30, 50, 100 estimators: [  4.94420891   9.11841593  13.62762842  21.80443826  43.81407871]\n"
     ]
    }
   ],
   "source": [
    "# градиентный бустинг\n",
    "kf = KFold(n_splits=5, random_state=42, shuffle=True)\n",
    "tuned_parameters = [{'n_estimators': [10, 20, 30, 50, 100]}]\n",
    "clf = GradientBoostingClassifier()\n",
    "GridCV = GridSearchCV(clf, param_grid = tuned_parameters, cv=kf, scoring='roc_auc')\n",
    "\n",
    "start_time = datetime.datetime.now()\n",
    "GridCV.fit(X_train, Y_train)\n",
    "print('Time elapsed:', datetime.datetime.now() - start_time)\n",
    "\n",
    "print(\"Mean train scores for 10, 20, 30, 50, 100 estimators:\", GridCV.cv_results_['mean_train_score'])\n",
    "print(\"Mean test scores for 10, 20, 30, 50, 100 estimators:\", GridCV.cv_results_['mean_test_score'])\n",
    "print(\"Mean fit time for 10, 20, 30, 50, 100 estimators:\", GridCV.cv_results_['mean_fit_time'])\n"
   ]
  },
  {
   "cell_type": "markdown",
   "metadata": {},
   "source": [
    "# Ответ 3:\n",
    " \n",
    " Среднее время кросс-валидации по 5 разбиениям для градиентного бустинга с 30 деревьями составило 13.44 секунд. Качество (метрика roc-auc), усредненное по 5 разбиениям, на тестовой выборке составило 0.69 для 30 деревьев."
   ]
  },
  {
   "cell_type": "markdown",
   "metadata": {},
   "source": [
    "# Ответ 4:\n",
    "\n",
    "Увеличение количества деревьев в данном алгоритме позволяет улучшить качество модели, но незначительно. При использовании большого количества деревьев > 250, можно разбить признаки на части, и обучаться по частям, распараллелить алгоритм и обучать эти части одновременно, потом склеить части для вычисления метрики. Можно также обучать деревья параллельно.\n"
   ]
  },
  {
   "cell_type": "markdown",
   "metadata": {},
   "source": [
    "# Этап 2: Логистическая регрессия"
   ]
  },
  {
   "cell_type": "code",
   "execution_count": 7,
   "metadata": {
    "collapsed": true
   },
   "outputs": [],
   "source": [
    "import pandas as pd\n",
    "import numpy as np\n",
    "\n",
    "import time\n",
    "import datetime\n",
    "\n",
    "from sklearn.preprocessing import StandardScaler\n",
    "from sklearn.model_selection import KFold, GridSearchCV\n",
    "from sklearn.linear_model import LogisticRegression\n",
    "from sklearn.metrics import roc_auc_score\n",
    "\n",
    "import warnings\n",
    "warnings.filterwarnings('ignore')"
   ]
  },
  {
   "cell_type": "code",
   "execution_count": 18,
   "metadata": {
    "collapsed": true
   },
   "outputs": [],
   "source": [
    "train_data = pd.read_csv('dataset\\\\features.csv', index_col='match_id')\n",
    "\n",
    "# Удаляем признаки об исходе игры из train_data, так как они отсутствуют в тестовой выборке\n",
    "# признаки для удаления duration,radiant_win,tower_status_radiant,tower_status_dire,barracks_status_radiant,barracks_status_dire\n",
    "drop_data = train_data.iloc[:, -6:] \n",
    "Y_train = train_data['radiant_win']\n",
    "train_data = train_data.drop(drop_data, axis=1)\n",
    "X_train = train_data\n",
    "\n",
    "# Заменим пропуски на нули с помощью функции fillna()\n",
    "X_train = X_train.fillna(0)\n",
    "\n",
    "# масштабирование признаков обучающей выборки\n",
    "stdSc = StandardScaler()\n",
    "X_train = stdSc.fit_transform(X_train)"
   ]
  },
  {
   "cell_type": "code",
   "execution_count": 9,
   "metadata": {},
   "outputs": [
    {
     "name": "stdout",
     "output_type": "stream",
     "text": [
      "Time elapsed: 0:01:26.682600\n",
      "========================================\n",
      "Mean train scores for C in [0.0001, 0.001, 0.01, 0.1, 1, 10, 100]: [ 0.71241966  0.71777456  0.71813887  0.71814973  0.71815039  0.71815044\n",
      "  0.71815044]\n",
      "Mean test scores for C in [0.0001, 0.001, 0.01, 0.1, 1, 10, 100]: [ 0.71135775  0.71636354  0.71655027  0.71652715  0.7165226   0.71652229\n",
      "  0.7165223 ]\n",
      "Mean fit time for C in [0.0001, 0.001, 0.01, 0.1, 1, 10, 100]: [ 1.62360353  1.64520245  2.24745889  2.35804315  2.4102448   2.49666529\n",
      "  2.51548219]\n",
      "========================================\n",
      "Optimal C and score on test data: 0.01 [ 0.71655027]\n"
     ]
    }
   ],
   "source": [
    "def logistic_regressor_tuning(X, Y):\n",
    "    kf = KFold(n_splits=5, random_state=42, shuffle=True)\n",
    "    C = [0.0001, 0.001, 0.01, 0.1, 1, 10, 100]\n",
    "    tuned_parameters = [{'C': C}]\n",
    "    clf = LogisticRegression(penalty='l2', max_iter=100)\n",
    "    GridCV = GridSearchCV(clf, param_grid = tuned_parameters, cv=kf, scoring='roc_auc')\n",
    "\n",
    "    start_time = datetime.datetime.now()\n",
    "    GridCV.fit(X, Y)\n",
    "    print('Time elapsed:', datetime.datetime.now() - start_time)\n",
    "    print('='*40)\n",
    "    print(\"Mean train scores for C in [0.0001, 0.001, 0.01, 0.1, 1, 10, 100]:\", GridCV.cv_results_['mean_train_score'])\n",
    "    print(\"Mean test scores for C in [0.0001, 0.001, 0.01, 0.1, 1, 10, 100]:\", GridCV.cv_results_['mean_test_score'])\n",
    "    print(\"Mean fit time for C in [0.0001, 0.001, 0.01, 0.1, 1, 10, 100]:\", GridCV.cv_results_['mean_fit_time'])\n",
    "    print('='*40)\n",
    "    index_max_score = np.argmax(GridCV.cv_results_['mean_test_score'])\n",
    "    print(\"Optimal C and score on test data:\", C[index_max_score], GridCV.cv_results_['mean_test_score'][[index_max_score]])\n",
    "\n",
    "# логистическая регрессия с L2 регуляризацией над всеми исходными признаками\n",
    "logistic_regressor_tuning(X_train, Y_train)"
   ]
  },
  {
   "cell_type": "markdown",
   "metadata": {},
   "source": [
    "# Ответ 1:\n",
    "Качество логистической регрессии над всеми исходными признаками при С=0.01 составило 0.716550269726.\n",
    "Качество (метрика auc_roc) градиентного бустинга при использовании разного количества деревьев (10, 20, 30, 50, 100) незначительно уступает логистической регрессии, отличия лежат в диапазоне от 1 до 6 %. Логистическая регрессия более склонна к underfitting и overfitting, возможно поэтому дает более оптимистичные прогнозы по сравнению с градиентным бустингом, но работает быстрее при том же качестве."
   ]
  },
  {
   "cell_type": "code",
   "execution_count": 21,
   "metadata": {
    "collapsed": true
   },
   "outputs": [],
   "source": [
    "# удалим категориальные признаки\n",
    "drop_data = train_data.loc[:, ['lobby_type', 'r1_hero', 'r2_hero', 'r3_hero', 'r4_hero', 'r5_hero', \\\n",
    "                       'd1_hero', 'd2_hero', 'd3_hero', 'd4_hero', 'd5_hero']] \n",
    "X_train = train_data.drop(drop_data, axis=1)\n",
    "\n",
    "# Заменим пропуски на нули с помощью функции fillna()\n",
    "X_train = X_train.fillna(0)\n",
    "\n",
    "# масштабирование признаков обучающей выборки\n",
    "stdSc = StandardScaler()\n",
    "X_train = stdSc.fit_transform(X_train)"
   ]
  },
  {
   "cell_type": "code",
   "execution_count": 22,
   "metadata": {},
   "outputs": [
    {
     "name": "stdout",
     "output_type": "stream",
     "text": [
      "Time elapsed: 0:01:08.269124\n",
      "========================================\n",
      "Mean train scores for C in [0.0001, 0.001, 0.01, 0.1, 1, 10, 100]: [ 0.71225083  0.71761715  0.71797864  0.71798888  0.7179892   0.71798926\n",
      "  0.71798927]\n",
      "Mean test scores for C in [0.0001, 0.001, 0.01, 0.1, 1, 10, 100]: [ 0.71133915  0.7163758   0.71655939  0.71653424  0.71653036  0.71652997\n",
      "  0.71652989]\n",
      "Mean fit time for C in [0.0001, 0.001, 0.01, 0.1, 1, 10, 100]: [ 0.84740167  1.52660217  1.9234066   2.10720344  2.1244029   2.13600302\n",
      "  2.10240312]\n",
      "========================================\n",
      "Optimal C and score on test data: 0.01 [ 0.71655939]\n"
     ]
    }
   ],
   "source": [
    "# логистическая регрессия с L2 регуляризацией после удаления категориальных признаков\n",
    "logistic_regressor_tuning(X_train, Y_train)"
   ]
  },
  {
   "cell_type": "markdown",
   "metadata": {},
   "source": [
    "# Ответ 2:\n",
    "\n",
    "Качество логистической регрессии после удаления категориальных признаков при С=0.01 составило 0.71655939. Отличия от качества модели над всеми признаками наблюдается начиная с 6-го знака после запятой. Можно заключить, что удаление катеориальных признаков никак модель не улучшило."
   ]
  },
  {
   "cell_type": "code",
   "execution_count": 12,
   "metadata": {},
   "outputs": [
    {
     "name": "stdout",
     "output_type": "stream",
     "text": [
      "Number of unique labels of heroes in train data: 108\n",
      "[  1   2   3   4   5   6   7   8   9  10  11  12  13  14  15  16  17  18\n",
      "  19  20  21  22  23  25  26  27  28  29  30  31  32  33  34  35  36  37\n",
      "  38  39  40  41  42  43  44  45  46  47  48  49  50  51  52  53  54  55\n",
      "  56  57  58  59  60  61  62  63  64  65  66  67  68  69  70  71  72  73\n",
      "  74  75  76  77  78  79  80  81  82  83  84  85  86  87  88  89  90  91\n",
      "  92  93  94  95  96  97  98  99 100 101 102 103 104 105 106 109 110 112]\n",
      "========================================\n",
      "Number of unique labels of heroes in game: 112\n"
     ]
    }
   ],
   "source": [
    "# количество различных идентификаторов героев в игре\n",
    "heroes_data = train_data.loc[:, ['r1_hero', 'r2_hero', 'r3_hero', 'r4_hero', 'r5_hero', \\\n",
    "                       'd1_hero', 'd2_hero', 'd3_hero', 'd4_hero', 'd5_hero']]\n",
    "count_unique = np.unique(heroes_data)\n",
    "print(\"Number of unique labels of heroes in train data:\", len(count_unique))\n",
    "print(count_unique)\n",
    "print('='*40)\n",
    "\n",
    "heroes_game = pd.read_csv('heroes.csv')\n",
    "print ('Number of unique labels of heroes in game:', len(heroes_game))"
   ]
  },
  {
   "cell_type": "markdown",
   "metadata": {},
   "source": [
    "# Ответ 3:\n",
    "\n",
    "Всего в игре может существовать 112 игроков, в данных функция unique() нашла 108 различных меток героев."
   ]
  },
  {
   "cell_type": "code",
   "execution_count": 23,
   "metadata": {
    "collapsed": true
   },
   "outputs": [],
   "source": [
    "# Код для формирования \"мешка слов\" по героям\n",
    "# N — количество различных героев в выборке\n",
    "def bag_words (data, X): \n",
    "    N = 112\n",
    "    X_pick = np.zeros((data.shape[0], N))\n",
    "\n",
    "    for i, match_id in enumerate(data.index):\n",
    "        for p in range(5):\n",
    "            X_pick[i, data.ix[match_id, 'r%d_hero' % (p+1)]-1] = 1\n",
    "            X_pick[i, data.ix[match_id, 'd%d_hero' % (p+1)]-1] = -1\n",
    "\n",
    "    # Добавим полученные числовые признаки из данных к обучающей выборке\n",
    "    X = np.concatenate((X, X_pick), axis=1)\n",
    "    return X\n",
    "\n",
    "X_train = bag_words(train_data, X_train)"
   ]
  },
  {
   "cell_type": "code",
   "execution_count": 24,
   "metadata": {},
   "outputs": [
    {
     "name": "stdout",
     "output_type": "stream",
     "text": [
      "Time elapsed: 0:02:03.464229\n",
      "========================================\n",
      "Mean train scores for C in [0.0001, 0.001, 0.01, 0.1, 1, 10, 100]: [ 0.72625999  0.74831035  0.75434344  0.75472418  0.75473198  0.75473211\n",
      "  0.75473206]\n",
      "Mean test scores for C in [0.0001, 0.001, 0.01, 0.1, 1, 10, 100]: [ 0.7250715   0.74633415  0.75173774  0.75194752  0.7519276   0.75192526\n",
      "  0.75192469]\n",
      "Mean fit time for C in [0.0001, 0.001, 0.01, 0.1, 1, 10, 100]: [ 0.87960157  1.804003    3.03880434  4.1980073   4.40981131  4.37260666\n",
      "  4.4016089 ]\n",
      "========================================\n",
      "Optimal C and score on test data: 0.1 [ 0.75194752]\n"
     ]
    }
   ],
   "source": [
    "# логистическая регрессия с L2 регуляризацией после удаления категориальных признаков\n",
    "logistic_regressor_tuning(X_train, Y_train)"
   ]
  },
  {
   "cell_type": "markdown",
   "metadata": {},
   "source": [
    "# Ответ 4:\n",
    "\n",
    "Качество логистической регрессии улучшилось после добавления \"мешка слов\" и при оптимальном С=0.1 составило 0.75194752. Добавление новых признаков улучшает качество модели."
   ]
  },
  {
   "cell_type": "code",
   "execution_count": 25,
   "metadata": {
    "collapsed": true
   },
   "outputs": [],
   "source": [
    "# предсказания вероятностей победы команды Radiant для тестовой выборки с помощью лучшей из изученных моделей\n",
    "test_data = pd.read_csv('features_test.csv', index_col='match_id')\n",
    "drop_data = test_data.loc[:, ['lobby_type', 'r1_hero', 'r2_hero', 'r3_hero', 'r4_hero', 'r5_hero', \\\n",
    "                       'd1_hero', 'd2_hero', 'd3_hero', 'd4_hero', 'd5_hero']] \n",
    "X_test = test_data.drop(drop_data, axis=1)\n",
    "X_test = X_test.fillna(0)\n",
    "X_test = stdSc.transform(X_test)\n",
    "X_test = bag_words(test_data, X_test)\n",
    "\n",
    "clf = LogisticRegression(C=0.1, random_state=42)\n",
    "clf.fit(X_train, Y_train)\n",
    "Y_pred = clf.predict_proba(X_test)[:, 1]\n",
    "    \n",
    "header = \"match_id\" + ',' + \"radiant_win\"\n",
    "result = np.array([test_data.index, Y_pred])\n",
    "\n",
    "np.savetxt('results\\\\submission.csv', result.T, fmt='%d,%.6f', newline='\\n', header=header, comments=\"\")"
   ]
  },
  {
   "cell_type": "markdown",
   "metadata": {},
   "source": [
    "# Ответ 5:\n",
    "\n",
    "Точность на kaggle составила 0.75529"
   ]
  }
 ],
 "metadata": {
  "celltoolbar": "Edit Metadata",
  "kernelspec": {
   "display_name": "Python 3",
   "language": "python",
   "name": "python3"
  },
  "language_info": {
   "codemirror_mode": {
    "name": "ipython",
    "version": 3
   },
   "file_extension": ".py",
   "mimetype": "text/x-python",
   "name": "python",
   "nbconvert_exporter": "python",
   "pygments_lexer": "ipython3",
   "version": "3.6.5"
  }
 },
 "nbformat": 4,
 "nbformat_minor": 2
}
